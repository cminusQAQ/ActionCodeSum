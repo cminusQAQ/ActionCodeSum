{
 "cells": [
  {
   "cell_type": "code",
   "execution_count": 4,
   "id": "05488266",
   "metadata": {},
   "outputs": [],
   "source": [
    "import spacy"
   ]
  },
  {
   "cell_type": "code",
   "execution_count": 9,
   "id": "7d881cef",
   "metadata": {},
   "outputs": [
    {
     "name": "stdout",
     "output_type": "stream",
     "text": [
      "VB\n",
      "DT\n",
      "NN\n",
      ".\n"
     ]
    }
   ],
   "source": [
    "s =  ['return', 'set', 'get', 'add', 'create', 'initialize', 'test', 'remove', 'check', 'is', 'call', 'retrieve', 'update', 'automate', 'write', 'determine', 'read', 'handle', 'to', 'if', 'insert', 'describe', 'use', 'load', 'delete', 'convert', 'start', 'clear', 'print', 'find', 'reset', 'save', 'send', 'generate', 'close', 'compare', 'indicate', 'perform', 'change', 'show']\n",
    "s = set(s)\n",
    "nlp = spacy.load(\"en_core_web_sm\")\n",
    "doc = nlp('return the array.')\n",
    "for tokens in doc:\n",
    "    print(tokens.tag_)\n",
    "# with open('/home/hj/ActionWordCodeSum/data/python/train/javadoc.original') as f:\n",
    "#     cnt = 0\n",
    "#     for lines in f.readlines():\n",
    "#         doc = nlp(lines)\n",
    "#         for tokens in doc:\n",
    "#             if tokens.tag_[0] == 'V' and tokens.tag_[1] == 'B':\n",
    "#                 s.add(str(tokens))\n",
    "#                 break"
   ]
  },
  {
   "cell_type": "code",
   "execution_count": 32,
   "id": "c68ce818",
   "metadata": {},
   "outputs": [],
   "source": [
    "ss = list(s)\n",
    "import pickle\n",
    "with open('data/action_vocab.txt', 'wb+') as f:\n",
    "    pickle.dump(s, f)"
   ]
  },
  {
   "cell_type": "code",
   "execution_count": 51,
   "id": "87576f99",
   "metadata": {
    "scrolled": true
   },
   "outputs": [
    {
     "data": {
      "text/plain": [
       "[(reorders, 'VBZ'),\n",
       " (a, 'DT'),\n",
       " (test, 'NN'),\n",
       " (suite, 'NN'),\n",
       " (by, 'IN'),\n",
       " (test, 'NN'),\n",
       " (type, 'NN'),\n",
       " (., '.')]"
      ]
     },
     "execution_count": 51,
     "metadata": {},
     "output_type": "execute_result"
    }
   ],
   "source": [
    "docs = nlp('reorders a test suite by test type .')\n",
    "t = [(i, i.tag_) for i in docs]\n",
    "t"
   ]
  },
  {
   "cell_type": "code",
   "execution_count": 44,
   "id": "817cc5eb",
   "metadata": {},
   "outputs": [
    {
     "name": "stdout",
     "output_type": "stream",
     "text": [
      "True\n"
     ]
    }
   ],
   "source": [
    "qwq = {}\n",
    "qwq['reorders'] = 1\n",
    "if 'reorders' in qwq:\n",
    "    print('True')"
   ]
  },
  {
   "cell_type": "code",
   "execution_count": 52,
   "id": "d0b1b973",
   "metadata": {},
   "outputs": [
    {
     "ename": "ModuleNotFoundError",
     "evalue": "No module named 'amrlib'",
     "output_type": "error",
     "traceback": [
      "\u001b[0;31m---------------------------------------------------------------------------\u001b[0m",
      "\u001b[0;31mModuleNotFoundError\u001b[0m                       Traceback (most recent call last)",
      "\u001b[0;32m/tmp/ipykernel_16792/1431972671.py\u001b[0m in \u001b[0;36m<module>\u001b[0;34m\u001b[0m\n\u001b[1;32m      1\u001b[0m \u001b[0;32mimport\u001b[0m \u001b[0mspacy\u001b[0m\u001b[0;34m\u001b[0m\u001b[0;34m\u001b[0m\u001b[0m\n\u001b[0;32m----> 2\u001b[0;31m \u001b[0;32mimport\u001b[0m \u001b[0mamrlib\u001b[0m\u001b[0;34m\u001b[0m\u001b[0;34m\u001b[0m\u001b[0m\n\u001b[0m\u001b[1;32m      3\u001b[0m \u001b[0mamrlib\u001b[0m\u001b[0;34m.\u001b[0m\u001b[0msetup_spacy_extension\u001b[0m\u001b[0;34m(\u001b[0m\u001b[0;34m)\u001b[0m\u001b[0;34m\u001b[0m\u001b[0;34m\u001b[0m\u001b[0m\n\u001b[1;32m      4\u001b[0m \u001b[0mnlp\u001b[0m \u001b[0;34m=\u001b[0m \u001b[0mspacy\u001b[0m\u001b[0;34m.\u001b[0m\u001b[0mload\u001b[0m\u001b[0;34m(\u001b[0m\u001b[0;34m'en_core_web_sm'\u001b[0m\u001b[0;34m)\u001b[0m\u001b[0;34m\u001b[0m\u001b[0;34m\u001b[0m\u001b[0m\n\u001b[1;32m      5\u001b[0m \u001b[0mdoc\u001b[0m \u001b[0;34m=\u001b[0m \u001b[0mnlp\u001b[0m\u001b[0;34m(\u001b[0m\u001b[0;34m'This is a test of the spaCy extension. The test has multiple sentences.'\u001b[0m\u001b[0;34m)\u001b[0m\u001b[0;34m\u001b[0m\u001b[0;34m\u001b[0m\u001b[0m\n",
      "\u001b[0;31mModuleNotFoundError\u001b[0m: No module named 'amrlib'"
     ]
    }
   ],
   "source": [
    "import spacy\n",
    "import amrlib\n",
    "amrlib.setup_spacy_extension()\n",
    "nlp = spacy.load('en_core_web_sm')\n",
    "doc = nlp('This is a test of the spaCy extension. The test has multiple sentences.')\n",
    "graphs = doc._.to_amr()\n",
    "for graph in graphs:\n",
    "    print(graph)"
   ]
  },
  {
   "cell_type": "code",
   "execution_count": 53,
   "id": "91469571",
   "metadata": {},
   "outputs": [
    {
     "name": "stdout",
     "output_type": "stream",
     "text": [
      "Collecting package metadata (current_repodata.json): done\n",
      "Solving environment: failed with initial frozen solve. Retrying with flexible solve.\n",
      "Collecting package metadata (repodata.json): done\n",
      "Solving environment: failed with initial frozen solve. Retrying with flexible solve.\n",
      "\n",
      "PackagesNotFoundError: The following packages are not available from current channels:\n",
      "\n",
      "  - armlib\n",
      "\n",
      "Current channels:\n",
      "\n",
      "  - https://repo.anaconda.com/pkgs/main/linux-64\n",
      "  - https://repo.anaconda.com/pkgs/main/noarch\n",
      "  - https://repo.anaconda.com/pkgs/r/linux-64\n",
      "  - https://repo.anaconda.com/pkgs/r/noarch\n",
      "\n",
      "To search for alternate channels that may provide the conda package you're\n",
      "looking for, navigate to\n",
      "\n",
      "    https://anaconda.org\n",
      "\n",
      "and use the search bar at the top of the page.\n",
      "\n",
      "\n"
     ]
    }
   ],
   "source": [
    "!conda install armlib"
   ]
  },
  {
   "cell_type": "code",
   "execution_count": 1,
   "id": "5421683e",
   "metadata": {},
   "outputs": [],
   "source": [
    "import torch"
   ]
  },
  {
   "cell_type": "code",
   "execution_count": 2,
   "id": "8da73c4e",
   "metadata": {},
   "outputs": [
    {
     "data": {
      "text/plain": [
       "tensor([False,  True, False])"
      ]
     },
     "execution_count": 2,
     "metadata": {},
     "output_type": "execute_result"
    }
   ],
   "source": [
    "x = torch.tensor([1, 2, 3])\n",
    "x.data.eq(2)"
   ]
  },
  {
   "cell_type": "code",
   "execution_count": 15,
   "id": "fe0990cd",
   "metadata": {},
   "outputs": [
    {
     "name": "stderr",
     "output_type": "stream",
     "text": [
      "100%|██████████████████████████████████████████████████████████████████████████████████████████████████████████████████████████████████| 55538/55538 [02:34<00:00, 360.21it/s]\n"
     ]
    }
   ],
   "source": [
    "import tqdm\n",
    "nlp = spacy.load(\"en_core_web_sm\")\n",
    "s = set()\n",
    "with open('/home/hj/ActionWordCodeSum/data/python/train/javadoc.original') as f:\n",
    "    for lines in tqdm.tqdm(f.readlines()):\n",
    "        doc = nlp(lines)\n",
    "        for ind, tokens in enumerate(doc):\n",
    "            if ind == 0:\n",
    "                continue\n",
    "            if tokens.tag_[:2] == 'NN':\n",
    "                s.add(tokens.text)\n",
    "                break\n",
    "            if ind >= 3:\n",
    "                break"
   ]
  },
  {
   "cell_type": "code",
   "execution_count": 17,
   "id": "6db7c1a2",
   "metadata": {},
   "outputs": [
    {
     "data": {
      "text/plain": [
       "7345"
      ]
     },
     "execution_count": 17,
     "metadata": {},
     "output_type": "execute_result"
    }
   ],
   "source": [
    "len(s)"
   ]
  },
  {
   "cell_type": "code",
   "execution_count": 22,
   "id": "f6d5102d",
   "metadata": {},
   "outputs": [],
   "source": [
    "s = list(s)\n",
    "s = ['null'] + s\n"
   ]
  },
  {
   "cell_type": "code",
   "execution_count": 24,
   "id": "14608e7d",
   "metadata": {},
   "outputs": [],
   "source": [
    "s = s[1:]"
   ]
  },
  {
   "cell_type": "code",
   "execution_count": 27,
   "id": "d8478907",
   "metadata": {},
   "outputs": [],
   "source": [
    "import pickle\n",
    "with open('data/argument_vocab.txt', 'wb') as f:\n",
    "    pickle.dump(s, f)"
   ]
  },
  {
   "cell_type": "code",
   "execution_count": null,
   "id": "bae557aa",
   "metadata": {},
   "outputs": [],
   "source": []
  }
 ],
 "metadata": {
  "kernelspec": {
   "display_name": "Python 3 (ipykernel)",
   "language": "python",
   "name": "python3"
  },
  "language_info": {
   "codemirror_mode": {
    "name": "ipython",
    "version": 3
   },
   "file_extension": ".py",
   "mimetype": "text/x-python",
   "name": "python",
   "nbconvert_exporter": "python",
   "pygments_lexer": "ipython3",
   "version": "3.7.11"
  }
 },
 "nbformat": 4,
 "nbformat_minor": 5
}
